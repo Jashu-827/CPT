{
  "nbformat": 4,
  "nbformat_minor": 0,
  "metadata": {
    "colab": {
      "provenance": []
    },
    "kernelspec": {
      "name": "python3",
      "display_name": "Python 3"
    },
    "language_info": {
      "name": "python"
    }
  },
  "cells": [
    {
      "cell_type": "code",
      "execution_count": 4,
      "metadata": {
        "id": "FZz6R3FCV_VH",
        "colab": {
          "base_uri": "https://localhost:8080/"
        },
        "outputId": "f97581f7-e0fa-4a8f-c784-4f2615e9046e"
      },
      "outputs": [
        {
          "output_type": "stream",
          "name": "stdout",
          "text": [
            "Enter a string wordmissisippi\n",
            "Original string: missisippi\n",
            "Sorted string:  iiiimppsss\n"
          ]
        }
      ],
      "source": [
        "def csortString(s):\n",
        "  count=[0]*26\n",
        "  for char in s:\n",
        "    count[ord(char)-ord('a')]+=1\n",
        "  sorted_str=''\n",
        "  for i in range(26):\n",
        "    sorted_str+=chr(i+ord('a'))*count[i]\n",
        "  return sorted_str\n",
        "\n",
        "name=input(\"Enter a string word\")\n",
        "sorted_name=csortString(str(name))\n",
        "print(\"Original string:\", name)\n",
        "print(\"Sorted string:\", sorted_name)"
      ]
    },
    {
      "cell_type": "code",
      "source": [
        "# Radix Sort == Bucket soet\n",
        "''' Algo\n",
        "1. Find the maximum number to determine number of digits.\n",
        "2. sect 10^0, for digit position\n",
        "3. increment digit position, w.r.t pass\n",
        "4. loop ->maxnum //exp>0\n",
        "perform count sort based on current digit(num//exp)%10\n",
        "multiply exp by 10\n",
        "'''"
      ],
      "metadata": {
        "id": "lzwdfbRKaUOE"
      },
      "execution_count": null,
      "outputs": []
    },
    {
      "cell_type": "code",
      "source": [
        "def count_sort(arr, exp):\n",
        "  n=len(arr)\n",
        "  output=[0]*n\n",
        "  count=[0]*10 #0->9 empty buckets for count of digits\n",
        "  for i in range(n): #freq of units position of numbers\n",
        "    index=(arr[i]//exp)%10\n",
        "    count[index] += 1\n",
        "  for i in range(1, 10):\n",
        "    count[i] += count[i-1]\n",
        "  i=n-1\n",
        "  while i >= 0:\n",
        "    index = (arr[i]//exp)%10\n",
        "    output[count[index]-1] = arr[i]\n",
        "    count[index] -= 1\n",
        "    i -= 1\n",
        "  for i in range(n):\n",
        "    arr[i] = output[i]\n",
        "def radix_sort(arr):\n",
        "  max_num = max(arr)\n",
        "  exp=1\n",
        "  while max_num // exp>0:\n",
        "    count_sort(arr, exp)\n",
        "    exp *= 10\n",
        "\n",
        "arr=[170, 45, 75, 90, 802, 24, 2, 66]\n",
        "print(\"Before sorting:\", arr)\n",
        "radix_sort(arr)\n",
        "print(\"After sorting\", arr)"
      ],
      "metadata": {
        "colab": {
          "base_uri": "https://localhost:8080/"
        },
        "id": "hJ54TTocrdQb",
        "outputId": "4ad73c82-787e-4822-d2b0-23b55c5722dd"
      },
      "execution_count": 5,
      "outputs": [
        {
          "output_type": "stream",
          "name": "stdout",
          "text": [
            "Before sorting: [170, 45, 75, 90, 802, 24, 2, 66]\n",
            "After sorting [2, 24, 45, 66, 75, 90, 170, 802]\n"
          ]
        }
      ]
    },
    {
      "cell_type": "code",
      "source": [
        "# interview quest\n",
        "# pancake sort ,leverage sort"
      ],
      "metadata": {
        "id": "7_n2rfkMvpR8"
      },
      "execution_count": null,
      "outputs": []
    }
  ]
}