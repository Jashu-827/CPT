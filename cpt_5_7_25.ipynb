{
  "nbformat": 4,
  "nbformat_minor": 0,
  "metadata": {
    "colab": {
      "provenance": []
    },
    "kernelspec": {
      "name": "python3",
      "display_name": "Python 3"
    },
    "language_info": {
      "name": "python"
    }
  },
  "cells": [
    {
      "cell_type": "code",
      "execution_count": null,
      "metadata": {
        "id": "DBGgFfBrvu6p"
      },
      "outputs": [],
      "source": [
        "''' SORTINGS\n",
        "selection\n",
        "insertion\n",
        "bubble\n",
        "quick\n",
        "counting\n",
        "radix\n",
        "heap\n",
        "'''"
      ]
    },
    {
      "cell_type": "code",
      "source": [
        "'''SELECTION\n",
        "\n",
        "1. start from the first element in the list\n",
        "2. arr[0]=min\n",
        "3. compare with all the remaining elements to find the real lowest element\n",
        "4. perform swapping with current position\n",
        "5. repeat the same with adding positional values for each min check\n",
        "'''\n",
        "# for -> 0 to n-1:\n",
        "#   min=i\n",
        "#   for j-> i+1 to n:\n",
        "#     if arr[j]<arr[min]:\n",
        "#       swap\n",
        "# min=i+1\n",
        "# Avg time complexity:O(n^2)\n",
        "# space complexity: O(1)\n"
      ],
      "metadata": {
        "id": "aRMZSXWpzPkK"
      },
      "execution_count": null,
      "outputs": []
    },
    {
      "cell_type": "code",
      "source": [
        "def selection_sort(arr):\n",
        "  n=len(arr)\n",
        "  for i in range(n):\n",
        "    min_index=i\n",
        "    for j in range(i+1, n):\n",
        "      if arr[j]>arr[min_index]:\n",
        "        min_index=j\n",
        "        # print(\" \",min_index, end=\"\")\n",
        "      arr[i], arr[min_index]=arr[min_index], arr[i]\n",
        "      # print(arr[i],\"\", arr[min_index])\n",
        "  return arr\n",
        "\n",
        "# size= int(input(\"Enter the number of elements:\"))\n",
        "arr=[17,14,15,18,19,12,1]\n",
        "# print(\"Enter\", size,\" elements\")\n",
        "# for _ in range(size):\n",
        "#   num=int(input())\n",
        "#   arr.append(num)\n",
        "result= selection_sort(arr)\n",
        "print(\"Sorted array\", result)"
      ],
      "metadata": {
        "colab": {
          "base_uri": "https://localhost:8080/",
          "height": 0
        },
        "id": "11TMZD_O3K5v",
        "outputId": "08225cf9-85ee-46f1-ed0b-5f86edcb88ae"
      },
      "execution_count": 8,
      "outputs": [
        {
          "output_type": "stream",
          "name": "stdout",
          "text": [
            "Sorted array [19, 18, 17, 15, 14, 12, 1]\n"
          ]
        }
      ]
    },
    {
      "cell_type": "code",
      "source": [
        "# INSERTION Sort\n",
        "'''\n",
        "1. start from the second element (i=1)\n",
        "2. previous index valued element check\n",
        "3. shift larger element one position to the right\n",
        "4. insert the current element in the currect position\n",
        "5. repeat until array sorted'''\n",
        "'''\n",
        "for i-> 1 to n-1:\n",
        "  key = arr[i]\n",
        "  j-i-1\n",
        "  while j>=0 and arr[j]>key\n",
        "      arr[j+1]=arr[j]\n",
        "      j-=1\n",
        "  arr[j+1]=key'''\n"
      ],
      "metadata": {
        "id": "qyny7D0G5aAK"
      },
      "execution_count": null,
      "outputs": []
    },
    {
      "cell_type": "code",
      "source": [
        "def insertion_sort(arr):\n",
        "  for i in range(1, len(arr)):\n",
        "    key = arr[i]\n",
        "    j=i-1\n",
        "    while j>=0 and arr[j]>key:\n",
        "      arr[j+1]=arr[j]\n",
        "      j-=1\n",
        "    arr[j+1]=key\n",
        "\n",
        "  return arr\n",
        "\n",
        "size= int(input(\"Enter the number of elements:\"))\n",
        "arr=[]\n",
        "print(\"Enter\", size,\" elements\")\n",
        "for _ in range(size):\n",
        "   name=(input())\n",
        "   arr.append(name)\n",
        "result= insertion_sort(arr)\n",
        "print(\"Sorted array\", result)"
      ],
      "metadata": {
        "colab": {
          "base_uri": "https://localhost:8080/",
          "height": 0
        },
        "id": "5J3WaWw0D0vz",
        "outputId": "6626943a-f593-44fd-e274-31e1ee3a292b"
      },
      "execution_count": 19,
      "outputs": [
        {
          "output_type": "stream",
          "name": "stdout",
          "text": [
            "Enter the number of elements:4\n",
            "Enter 4  elements\n",
            "banana\n",
            "cherry\n",
            "apple\n",
            "dates\n",
            "Sorted array ['apple', 'banana', 'cherry', 'dates']\n"
          ]
        }
      ]
    },
    {
      "cell_type": "code",
      "source": [
        "'''Performing insertion sort on strings based on length of words'''\n",
        "\n",
        "def insertion_sort(arr):\n",
        "  for i in range(1, len(arr)):\n",
        "    key =(arr[i])\n",
        "    j=i-1\n",
        "    while j>=0 and (arr[j])>(key):\n",
        "      arr[j+1]=arr[j]\n",
        "      j-=1\n",
        "    arr[j+1]=key\n",
        "  arr=''.join(arr)\n",
        "  return arr\n",
        "\n",
        "# size= int(input(\"Enter the number of elements:\"))\n",
        "# arr=[]\n",
        "# print(\"Enter\", size,\" elements\")\n",
        "# for _ in range(size):\n",
        "#    name=(input())\n",
        "#    arr.append(name)\n",
        "name=input()\n",
        "arr=list(name)\n",
        "result= insertion_sort(arr)\n",
        "print(\"Sorted array:\",str(result))"
      ],
      "metadata": {
        "colab": {
          "base_uri": "https://localhost:8080/",
          "height": 0
        },
        "id": "4t0ZjOssExU4",
        "outputId": "2e2cd015-c724-40d6-a83f-ae94441f8477"
      },
      "execution_count": 35,
      "outputs": [
        {
          "output_type": "stream",
          "name": "stdout",
          "text": [
            "python\n",
            "Sorted array hnopty\n"
          ]
        }
      ]
    },
    {
      "cell_type": "code",
      "source": [],
      "metadata": {
        "id": "Wnznuu5cN7Hf"
      },
      "execution_count": 34,
      "outputs": []
    }
  ]
}