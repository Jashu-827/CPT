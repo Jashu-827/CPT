{
  "nbformat": 4,
  "nbformat_minor": 0,
  "metadata": {
    "colab": {
      "provenance": []
    },
    "kernelspec": {
      "name": "python3",
      "display_name": "Python 3"
    },
    "language_info": {
      "name": "python"
    }
  },
  "cells": [
    {
      "cell_type": "markdown",
      "source": [
        "Operations Of double linked List\n",
        "1. Insertion - at begin, end, position\n",
        "2. Deletion - by value,\n",
        "3. Traversal - forward / backward\n",
        "\n",
        "head<-->node1<-->node2<-->null\n"
      ],
      "metadata": {
        "id": "zWjWfVd8_dDZ"
      }
    },
    {
      "cell_type": "code",
      "execution_count": null,
      "metadata": {
        "id": "L_PRGJB39Oir"
      },
      "outputs": [],
      "source": [
        "'''\n",
        "class node:\n",
        "  def __init__(self, data):\n",
        "    self.data=data\n",
        "    self.next=None\n",
        "    self.prev=None\n",
        "'''"
      ]
    },
    {
      "cell_type": "code",
      "source": [
        "# at the end insertion on DLL\n",
        "\n",
        "class Node:\n",
        "  def __init__(self, data):\n",
        "    self.data=data\n",
        "    self.prev=None\n",
        "    self.next=None\n",
        "class DoubllyLinkedList:\n",
        "  def __init__(self):\n",
        "    self.head=None\n",
        "  def iae(self, data):\n",
        "    newnode = Node(data)\n",
        "    if self.head is None:\n",
        "      self.head= newnode\n",
        "      return\n",
        "    temp = self.head\n",
        "    while temp.next:\n",
        "      temp=temp.next\n",
        "    temp.next=newnode\n",
        "    newnode.prev=temp\n",
        "  def display(self):\n",
        "    temp=self.head\n",
        "    print(\"Double Linked List: \")\n",
        "    while temp:\n",
        "      print(temp.data, end=\"<-->\")\n",
        "      temp=temp.next\n",
        "    print(\"None\")\n",
        "\n",
        "dll= DoubllyLinkedList()\n",
        "n= int(input(\"Enter the number of elements to insert at end: \"))\n",
        "for i in range (n):\n",
        "  val = int(input(f\" Enter element {i+1}: \"))\n",
        "  dll.iae(val)\n",
        "dll.display()"
      ],
      "metadata": {
        "colab": {
          "base_uri": "https://localhost:8080/"
        },
        "id": "IJV8_yGWBU6p",
        "outputId": "092597a2-4ec5-4409-937d-178edde4f9a1"
      },
      "execution_count": 2,
      "outputs": [
        {
          "output_type": "stream",
          "name": "stdout",
          "text": [
            "Enter the number of elements to insert at end: 3\n",
            " Enter element 1: 21\n",
            " Enter element 2: 12\n",
            " Enter element 3: 32\n",
            "Double Linked List: \n",
            "21<-->12<-->32<-->None\n"
          ]
        }
      ]
    },
    {
      "cell_type": "markdown",
      "source": [
        "Insertion at begining"
      ],
      "metadata": {
        "id": "WvtUVHPnJaLZ"
      }
    },
    {
      "cell_type": "code",
      "source": [
        "class Node:\n",
        "  def __init__(self, data):\n",
        "    self.data=data\n",
        "    self.prev=None\n",
        "    self.next=None\n",
        "class DoubllyLinkedList:\n",
        "  def __init__(self):\n",
        "    self.head=None\n",
        "  def iab(self, data):\n",
        "    newnode = Node(data)\n",
        "    newnode.next= self.head\n",
        "    self.head=newnode\n",
        "    if self.head is None:\n",
        "      self.head= newnode\n",
        "      return\n",
        "    # if self.head:\n",
        "    #   self.head.prev=newnode\n",
        "    # self.head = newnode\n",
        "\n",
        "    # while self.next:\n",
        "    #   temp=temp.next\n",
        "    # temp.next=newnode\n",
        "    # newnode.prev=temp\n",
        "\n",
        "\n",
        "  def display(self):\n",
        "    temp=self.head\n",
        "    print(\"Double Linked List: \")\n",
        "    while temp:\n",
        "      print(temp.data, end=\"<-->\")\n",
        "      temp=temp.next\n",
        "    print(\"None\")\n",
        "\n",
        "dll= DoubllyLinkedList()\n",
        "n= int(input(\"Enter the number of elements to insert at end: \"))\n",
        "for i in range (n):\n",
        "  val = int(input(f\" Enter element {i+1}: \"))\n",
        "  dll.iab(val)\n",
        "dll.display()"
      ],
      "metadata": {
        "colab": {
          "base_uri": "https://localhost:8080/"
        },
        "id": "Fa154fCVISFS",
        "outputId": "3fc09a7a-0b9e-4f96-c64a-ed3c73b49cd0"
      },
      "execution_count": 3,
      "outputs": [
        {
          "output_type": "stream",
          "name": "stdout",
          "text": [
            "Enter the number of elements to insert at end: 3\n",
            " Enter element 1: 21\n",
            " Enter element 2: 12\n",
            " Enter element 3: 32\n",
            "Double Linked List: \n",
            "32<-->12<-->21<-->None\n"
          ]
        }
      ]
    },
    {
      "cell_type": "code",
      "source": [
        "class Node:\n",
        "  def __init__(self, data):\n",
        "    self.data=data\n",
        "    self.prev=None\n",
        "    self.next=None\n",
        "class DoubllyLinkedList:\n",
        "  def __init__(self):\n",
        "    self.head=None\n",
        "  def iap(self, pos, data):\n",
        "    newnode=Node(data)\n",
        "    if pos<=0:\n",
        "      print(\"Invalid\")\n",
        "      return\n",
        "    if pos==1:\n",
        "      newnode.next=self.head\n",
        "      if self.head:\n",
        "        self.head.prev=newnode\n",
        "      self.head=newnode\n",
        "      return\n",
        "    temp=self.head\n",
        "    for _ in range(pos-2):\n",
        "      if temp is None:\n",
        "        print(\"position off range\")\n",
        "        return\n",
        "      temp=temp.next\n",
        "    if temp is None:\n",
        "      print(\"No elements .........\")\n",
        "      return\n",
        "    newnode.next = temp.next\n",
        "    newnode.prev = temp\n",
        "    if temp.next:\n",
        "      temp.next.prev=newnode\n",
        "    temp.next=newnode\n",
        "\n",
        "\n",
        "  def display(self):\n",
        "    temp=self.head\n",
        "    print(\"Double Linked List: \")\n",
        "    while temp:\n",
        "      print(temp.data, end=\"<-->\")\n",
        "      temp=temp.next\n",
        "    print(\"None\")\n",
        "\n",
        "dll= DoubllyLinkedList()\n",
        "n= int(input(\"Enter the number of elements to insert at end: \"))\n",
        "for i in range (n):\n",
        "  val = int(input(f\" Enter element {i+1}: \"))\n",
        "  pos= int(input(f\" Enter the position to inser {val}: \"))\n",
        "  dll.iap(val, pos)\n",
        "dll.display()"
      ],
      "metadata": {
        "colab": {
          "base_uri": "https://localhost:8080/"
        },
        "id": "Kaj3nEKqL_bD",
        "outputId": "28ba577c-d6df-49df-f05c-424b85c8552f"
      },
      "execution_count": 4,
      "outputs": [
        {
          "output_type": "stream",
          "name": "stdout",
          "text": [
            "Enter the number of elements to insert at end: 3\n",
            " Enter element 1: 1\n",
            " Enter the position to inser 1: 2\n",
            " Enter element 2: 2\n",
            " Enter the position to inser 2: 1\n",
            " Enter element 3: 4\n",
            " Enter the position to inser 4: 3\n",
            "No elements .........\n",
            "Double Linked List: \n",
            "2<-->1<-->None\n"
          ]
        }
      ]
    },
    {
      "cell_type": "code",
      "source": [
        "class Node:\n",
        "  def __init__(self, data):\n",
        "    self.data=data\n",
        "    self.prev=None\n",
        "    self.next=None\n",
        "class DoubllyLinkedList:\n",
        "  def __init__(self):\n",
        "    self.head=None\n",
        "  def iap(self, pos, data):\n",
        "    newnode=Node(data)\n",
        "    if pos<=0:\n",
        "      print(\"Invalid\")\n",
        "      return\n",
        "    if pos==1:\n",
        "      newnode.next=self.head\n",
        "      if self.head:\n",
        "        self.head.prev=newnode\n",
        "      self.head=newnode\n",
        "      return\n",
        "    temp=self.head\n",
        "    for _ in range(pos-2):\n",
        "      if temp is None:\n",
        "        print(\"position off range\")\n",
        "        return\n",
        "      temp=temp.next\n",
        "    if temp is None:\n",
        "      print(\"No elements .........\")\n",
        "      return\n",
        "    newnode.next = temp.next\n",
        "    newnode.prev = temp\n",
        "    if temp.next:\n",
        "      temp.next.prev=newnode\n",
        "    temp.next=newnode\n",
        "\n",
        "\n",
        "  def display(self):\n",
        "    temp=self.head\n",
        "    print(\"Double Linked List: \")\n",
        "    while temp:\n",
        "      print(temp.data, end=\"<-->\")\n",
        "      temp=temp.next\n",
        "    print(\"None\")\n",
        "\n",
        "dll= DoubllyLinkedList()\n",
        "n= int(input(\"Enter the number of elements to insert at end: \"))\n",
        "for i in range (n):\n",
        "  val = int(input(f\" Enter element {i+1}: \"))\n",
        "  pos= int(input(f\" Enter the position to inser {val}: \"))\n",
        "  dll.iap(val, pos)\n",
        "dll.display()"
      ],
      "metadata": {
        "id": "MfqBeaH7iJ1K"
      },
      "execution_count": null,
      "outputs": []
    },
    {
      "cell_type": "code",
      "source": [],
      "metadata": {
        "id": "H5nOY5a-fEmr"
      },
      "execution_count": null,
      "outputs": []
    }
  ]
}