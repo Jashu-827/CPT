{
  "nbformat": 4,
  "nbformat_minor": 0,
  "metadata": {
    "colab": {
      "provenance": []
    },
    "kernelspec": {
      "name": "python3",
      "display_name": "Python 3"
    },
    "language_info": {
      "name": "python"
    }
  },
  "cells": [
    {
      "cell_type": "code",
      "execution_count": null,
      "metadata": {
        "id": "36D6v9lvzjCW"
      },
      "outputs": [],
      "source": [
        "#pacake sort\n",
        "#Algo\n",
        "'''\n",
        "1.start complete array and decrease the size(n-1).\n",
        "2. for each size:\n",
        "    a. find the index of max element.\n",
        "    b. flip the array with max element index.\n",
        "    c. flip the total array to the current size max->move the end of the array.\n",
        "3. repeat step1 by n-2, n-3.......\n",
        "for nth reduced element perform step 2 untill 0th index value respectively.\n",
        "'''"
      ]
    },
    {
      "cell_type": "code",
      "source": [
        "def flip(arr, k):\n",
        "  return arr[:k+1][::-1]+ arr[k+1:]\n",
        "def pancake(arr):\n",
        "  n=len(arr)\n",
        "  for size in range(n, 1, -1):\n",
        "    max_index = arr.index(max(arr[:size]))\n",
        "    if max_index!=size-1:\n",
        "      if max_index!=0:\n",
        "        arr=flip(arr, max_index)\n",
        "        print(f\" Flip at{max_index+1}: {arr}\")\n",
        "      arr=flip(arr, size-1)\n",
        "      print(f\"Flip at {size}: {arr}\")\n",
        "  return arr\n",
        "\n",
        "nums=list(map(int, input(\"Enters numbers seperated with space: \").split()))\n",
        "sorted_nums=pancake(nums)\n",
        "print(\"Soted\", sorted_nums)"
      ],
      "metadata": {
        "colab": {
          "base_uri": "https://localhost:8080/"
        },
        "id": "V9THwzh03BEx",
        "outputId": "9ec197d7-db6f-40db-e978-a56b0db532bf"
      },
      "execution_count": 1,
      "outputs": [
        {
          "output_type": "stream",
          "name": "stdout",
          "text": [
            "Enters numbers seperated with space: 2 6 4 9 1 5 2\n",
            " Flip at4: [9, 4, 6, 2, 1, 5, 2]\n",
            "Flip at 7: [2, 5, 1, 2, 6, 4, 9]\n",
            " Flip at5: [6, 2, 1, 5, 2, 4, 9]\n",
            "Flip at 6: [4, 2, 5, 1, 2, 6, 9]\n",
            " Flip at3: [5, 2, 4, 1, 2, 6, 9]\n",
            "Flip at 5: [2, 1, 4, 2, 5, 6, 9]\n",
            " Flip at3: [4, 1, 2, 2, 5, 6, 9]\n",
            "Flip at 4: [2, 2, 1, 4, 5, 6, 9]\n",
            "Flip at 3: [1, 2, 2, 4, 5, 6, 9]\n",
            "Soted [1, 2, 2, 4, 5, 6, 9]\n"
          ]
        }
      ]
    },
    {
      "cell_type": "code",
      "source": [],
      "metadata": {
        "id": "mjoDNXNh6SQJ"
      },
      "execution_count": null,
      "outputs": []
    },
    {
      "cell_type": "code",
      "source": [],
      "metadata": {
        "id": "yfBRSvKK-wJh"
      },
      "execution_count": null,
      "outputs": []
    }
  ]
}