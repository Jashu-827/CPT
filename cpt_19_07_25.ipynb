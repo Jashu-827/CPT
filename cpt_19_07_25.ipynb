{
  "nbformat": 4,
  "nbformat_minor": 0,
  "metadata": {
    "colab": {
      "provenance": []
    },
    "kernelspec": {
      "name": "python3",
      "display_name": "Python 3"
    },
    "language_info": {
      "name": "python"
    }
  },
  "cells": [
    {
      "cell_type": "markdown",
      "source": [
        "**Exception Handling**"
      ],
      "metadata": {
        "id": "aCRG7AQuKHXd"
      }
    },
    {
      "cell_type": "markdown",
      "source": [
        "1. Exception - for base classes\n",
        "2. ArthmeticError - math errors\n",
        "3. ZeroDivisionError -1/0\n",
        "4. StopIteration -  next method or iterator not available/ condition not available\n",
        "5. SystemExit - current os exit\n",
        "6. StandardError - pre defined keywords\n",
        "7. EOFError - i/o till the end of the file\n",
        "8. ImportError - file existing error\n",
        "9. KeyboardInterrupt - execution interrupt (when clicked on buttons like printscreen etc..)\n",
        "10. NameError- when function call and definition are written differently\n",
        "11. ValueError-\n",
        "12. IndexError-\n",
        "13. TypeError-\n",
        "14. IOError-\n",
        "15. SyntaxError - when augements are missed, eg: when missed to write colon in for loop\n",
        "16. RuntimeError -\n",
        "17. IndentatioinError -\n",
        "18. AttributeError -\n",
        "19. AssertionError -  "
      ],
      "metadata": {
        "id": "0uPY0bsUKdcA"
      }
    },
    {
      "cell_type": "code",
      "source": [],
      "metadata": {
        "id": "tlAXap9LKtyv"
      },
      "execution_count": null,
      "outputs": []
    },
    {
      "cell_type": "code",
      "source": [
        "try:\n",
        "  num1= int(input(\"Enter numerator: \"))\n",
        "  num2 = int(input(\"Enter denominator: \"))\n",
        "  output=num1/num2\n",
        "  print(\"Result:\", output)\n",
        "except ZeroDivisionError:\n",
        "  print(\"Cannot divide by zero............\")"
      ],
      "metadata": {
        "colab": {
          "base_uri": "https://localhost:8080/"
        },
        "id": "Ms8YVjc3B2Il",
        "outputId": "86f2c295-c45b-4d3a-9e4d-ef4c5cbb7bb0"
      },
      "execution_count": null,
      "outputs": [
        {
          "output_type": "stream",
          "name": "stdout",
          "text": [
            "Enter numerator: 11\n",
            "Enter denominator: 0\n",
            "cannot divide by zero............\n"
          ]
        }
      ]
    },
    {
      "cell_type": "code",
      "source": [
        "try :\n",
        "  filename= input(\"Enter the file name: \")\n",
        "  file=open(filename, 'r')\n",
        "  number=int(file.readline())\n",
        "  print(\"Number from file\", number)\n",
        "  file.close()\n",
        "except FileNotFoundError:\n",
        "  print(\"File does not Exist....\")\n",
        "except ValueError:\n",
        "  print(\"file does not have integet...........\")\n",
        "except:\n",
        "  print(\"Unkown Error.....\")"
      ],
      "metadata": {
        "colab": {
          "base_uri": "https://localhost:8080/"
        },
        "id": "ooqs6T0tDlKX",
        "outputId": "d3954748-e59f-4e66-eb02-e92644b5c2e5"
      },
      "execution_count": null,
      "outputs": [
        {
          "output_type": "stream",
          "name": "stdout",
          "text": [
            "Enter the file name: api.txt\n",
            "file does not have integet...........\n"
          ]
        }
      ]
    },
    {
      "cell_type": "markdown",
      "source": [
        "### **MultipleException Handling**"
      ],
      "metadata": {
        "id": "bYWlBKKuJb_k"
      }
    },
    {
      "cell_type": "code",
      "source": [
        "# Multiple exception\n",
        "try:\n",
        "  num=int(input(\"Enter a number: \"))\n",
        "  print(num**3)\n",
        "except (KeyboardInterrupt, ValueError, TypeError):\n",
        "  print(\"Please check before executing....\")\n",
        "print(\"Program Terminated......\")"
      ],
      "metadata": {
        "colab": {
          "base_uri": "https://localhost:8080/"
        },
        "id": "pIa3LGfmGeHJ",
        "outputId": "14c594af-5572-4396-9c4d-ed196662158e"
      },
      "execution_count": null,
      "outputs": [
        {
          "output_type": "stream",
          "name": "stdout",
          "text": [
            "Enter a number: \n",
            "Please check before executing....\n",
            "Program Terminated......\n"
          ]
        }
      ]
    },
    {
      "cell_type": "code",
      "source": [
        "import math\n",
        "try:\n",
        "  num=int(input(\"Enter a number: \"))\n",
        "  if num<0:\n",
        "    raise ValueError(\"Negative number....\")\n",
        "except ( ValueError):\n",
        "  print(\"Enter positive number only....\")\n",
        "else:\n",
        "  print(\"SquareRoot......\", round(math.sqrt(num),4))"
      ],
      "metadata": {
        "colab": {
          "base_uri": "https://localhost:8080/"
        },
        "id": "KNuxzm6RK1_F",
        "outputId": "8302d66a-9973-4936-e434-d0580d174c45"
      },
      "execution_count": null,
      "outputs": [
        {
          "output_type": "stream",
          "name": "stdout",
          "text": [
            "Enter a number: -9\n",
            "Enter positive number only....\n"
          ]
        }
      ]
    },
    {
      "cell_type": "markdown",
      "source": [
        "Excetion Raising"
      ],
      "metadata": {
        "id": "UTpIQh8YNsS3"
      }
    },
    {
      "cell_type": "code",
      "source": [
        "import math\n",
        "try:\n",
        "  num=int(input(\"Enter a number: \"))\n",
        "  print(num)\n",
        "  raise ValueError\n",
        "except:\n",
        "  print(\"Exception raised intentionally even no use.....\")"
      ],
      "metadata": {
        "colab": {
          "base_uri": "https://localhost:8080/"
        },
        "id": "ng3fwhZyMZYQ",
        "outputId": "8c5e5e23-24b6-4d55-c714-12d2e5a9e4ea"
      },
      "execution_count": null,
      "outputs": [
        {
          "output_type": "stream",
          "name": "stdout",
          "text": [
            "Enter a number: r\n",
            "Exception raised intentionally even no use.....\n"
          ]
        }
      ]
    },
    {
      "cell_type": "code",
      "source": [
        "import sys\n",
        "filename=\"file1.txt\"\n",
        "file=open(filename, 'w+')\n",
        "import math\n",
        "try:\n",
        "  num1= int(input(\"Enter numerator: \"))\n",
        "  num2 = int(input(\"Enter denominator: \"))\n",
        "  output=num1/num2\n",
        "  if num<0:\n",
        "    raise ValueError(\"Negative number....\")\n",
        "  if not num:\n",
        "    raise TypeError(\"Only Numbers accepted\")\n",
        "except (ZeroDivisionError ,ValueError, TypeError) as e:\n",
        "  file.write(f\"{(e)}\")\n",
        "else:\n",
        "  file.write(f\"{output}\")"
      ],
      "metadata": {
        "colab": {
          "base_uri": "https://localhost:8080/"
        },
        "id": "wmnr6lSvOTSh",
        "outputId": "0587e954-d894-4d4b-9dc8-8aa939fd8559"
      },
      "execution_count": null,
      "outputs": [
        {
          "name": "stdout",
          "output_type": "stream",
          "text": [
            "Enter numerator: 5\n",
            "Enter denominator: 0\n"
          ]
        }
      ]
    },
    {
      "cell_type": "code",
      "source": [
        "import datetime\n",
        "try:\n",
        "  num1= int(input(\"Enter numerator: \"))\n",
        "  num2 = int(input(\"Enter denominator: \"))\n",
        "  print(\"result\",num1/num2)\n",
        "except ZeroDivisionError as e:\n",
        "  ct=datetime.datetime.now().strftime(\"%Y-%m-%d %H:%M:%S\")\n",
        "  txt=f\"[{ct}] Error:{type(e)}\\n\"\n",
        "  with open(\"file1.txt\", 'a')as file:\n",
        "    file.write(txt)\n",
        "except ValueError as e:\n",
        "  ct=datetime.datetime.now().strftime(\"%Y-%m-%d %H:%M:%S\")\n",
        "  txt=f\"[{ct}] Error:{type(e)}\\n\"\n",
        "  with open(\"file1.txt\", 'a')as file:\n",
        "    file.write(txt)"
      ],
      "metadata": {
        "colab": {
          "base_uri": "https://localhost:8080/"
        },
        "id": "1x6BKGAXRoEe",
        "outputId": "e765e7cc-9a85-4485-cafb-07b0ee3a73b1"
      },
      "execution_count": null,
      "outputs": [
        {
          "name": "stdout",
          "output_type": "stream",
          "text": [
            "Enter numerator: dfvd\n"
          ]
        }
      ]
    },
    {
      "cell_type": "code",
      "source": [],
      "metadata": {
        "id": "qt2VG7OqYyG1"
      },
      "execution_count": null,
      "outputs": []
    }
  ]
}