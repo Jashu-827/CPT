{
  "nbformat": 4,
  "nbformat_minor": 0,
  "metadata": {
    "colab": {
      "provenance": []
    },
    "kernelspec": {
      "name": "python3",
      "display_name": "Python 3"
    },
    "language_info": {
      "name": "python"
    }
  },
  "cells": [
    {
      "cell_type": "code",
      "execution_count": null,
      "metadata": {
        "id": "mUnZEzVgN6yS"
      },
      "outputs": [],
      "source": [
        "'''Sortings\n",
        "Bubble\n",
        "counting'''"
      ]
    },
    {
      "cell_type": "code",
      "source": [
        "# Bubble\n",
        "''' 1. Start from the beginning of the array/list2\n",
        "2. Compare each pair to the adj num.\n",
        "3. if latest element is grater than adjacent perform swap.\n",
        "4. repeat the process till n-1.\n",
        "5. After each cycle/pass, largest unsorted element would be in correct position.\n",
        "6. repeat pass till all the elements are sorted.'''\n",
        "# Pseudo:\n",
        "'''\n",
        "for i -> 0 to n-1:\n",
        "  for j -> 0 to n-i-2:\n",
        "    if a[j]>a[j+1]:\n",
        "      swap(a[j],a[j+1])\n",
        "'''\n",
        "#Best time: O(n)\n",
        "#Worst time: O(n^2)\n",
        "#Space comp: O(1)\n",
        "'''geo time sensors'''"
      ],
      "metadata": {
        "id": "T_6w-C8qUtpA",
        "colab": {
          "base_uri": "https://localhost:8080/",
          "height": 35
        },
        "outputId": "40aa9b79-fd42-47f4-95b2-761c93b54ab5"
      },
      "execution_count": null,
      "outputs": [
        {
          "output_type": "execute_result",
          "data": {
            "text/plain": [
              "'geo time sensors'"
            ],
            "application/vnd.google.colaboratory.intrinsic+json": {
              "type": "string"
            }
          },
          "metadata": {},
          "execution_count": 5
        }
      ]
    },
    {
      "cell_type": "code",
      "source": [
        "#code\n",
        "def bubble_sort(arr):\n",
        "  n=len(arr)\n",
        "  for i in range(n):\n",
        "    for j in range(0,n-i-1):\n",
        "      if arr[j] > arr[j+1]:\n",
        "        arr[j], arr[j+1]=arr[j+1], arr[j]\n",
        "  return arr\n",
        "size=int(input(\"Enter the numer of elements: \"))\n",
        "arr=[]\n",
        "print(\"Enter the elements:  \")\n",
        "for _ in range(size):\n",
        "  arr.append(int(input(_)))\n",
        "print(\"Original list:\", arr)\n",
        "bubble_sort(arr)\n",
        "print(\"BubbleSorted: \", arr)"
      ],
      "metadata": {
        "colab": {
          "base_uri": "https://localhost:8080/"
        },
        "id": "x69MDHI0WlVZ",
        "outputId": "9c0f748f-b597-4771-d9b4-5774daff53d3"
      },
      "execution_count": null,
      "outputs": [
        {
          "output_type": "stream",
          "name": "stdout",
          "text": [
            "Enter the numer of elements: 5\n",
            "Enter the elements:  \n",
            "09\n",
            "16\n",
            "22\n",
            "38\n",
            "41\n",
            "Original list: [9, 6, 2, 8, 1]\n",
            "BubbleSorted:  [1, 2, 6, 8, 9]\n"
          ]
        }
      ]
    },
    {
      "cell_type": "code",
      "source": [
        "# Couning Sort = non comparision sort\n",
        "'''1. no -ve numbers\n",
        "2. no long numbers\n",
        "3. short confined numbers'''\n",
        "# Algo\n",
        "''' 1. find max min of array\n",
        "2. min!<0\n",
        "3. Create a count array to store freq of num\n",
        "4. modify the count array for each element to be stored the sum of prev counts\n",
        "5. place the output array back to the original array\n",
        "'''\n",
        "# pseudo code\n",
        "''' countsort(arr, n):\n",
        "1. find max in array\n",
        "2. create count (0-max)\n",
        "3. for i ->0 to n-1:\n",
        "      count[a[i]]+=1\n",
        "4. for i -.>to max_val:\n",
        "      count[i]+=count[i-1]\n",
        "      create output arr[n]\n",
        "5. for i ->n-1 to 0:\n",
        "output[count[a[i]]-1]=a[i]\n",
        "count[a[i]]-=1\n",
        "copy output to arr'''\n",
        "# time - O(n+k)\n",
        "# space - O(n+k)"
      ],
      "metadata": {
        "id": "DiXr4YIVZC6h"
      },
      "execution_count": null,
      "outputs": []
    },
    {
      "cell_type": "code",
      "source": [
        "def csort(arr):\n",
        "  if not arr:\n",
        "    return []\n",
        "  max_val = max(arr)\n",
        "  count = [0]*(max_val+1)\n",
        "\n",
        "  #freq\n",
        "\n",
        "  for num in arr:\n",
        "    count[num] += 1\n",
        "\n",
        "  #count\n",
        "\n",
        "  for i in range(1, len(count)):\n",
        "    count[i] += count[i-1]\n",
        "  output = [0]*len(arr)\n",
        "\n",
        "  #stable sort\n",
        "\n",
        "  for num in reversed(arr):\n",
        "    output[count[num]-1] = num\n",
        "    count[num] -= 1\n",
        "\n",
        "  #coping sorted list\n",
        "\n",
        "  for i in range(len(arr)):\n",
        "    arr[i] = output[i]\n",
        "\n",
        "arr=[4,2,2,3,6,9,1,4,0]\n",
        "print(\"Before\", arr)\n",
        "csort(arr)\n",
        "print(\"After:\", arr)"
      ],
      "metadata": {
        "colab": {
          "base_uri": "https://localhost:8080/"
        },
        "id": "y-HFz1k3rYY8",
        "outputId": "acff1dbb-55fb-473d-a92b-2e9b19745390"
      },
      "execution_count": null,
      "outputs": [
        {
          "output_type": "stream",
          "name": "stdout",
          "text": [
            "Before [4, 2, 2, 3, 6, 9, 1, 4, 0]\n",
            "After: [0, 1, 2, 2, 3, 4, 4, 6, 9]\n"
          ]
        }
      ]
    },
    {
      "cell_type": "code",
      "source": [],
      "metadata": {
        "id": "QVZ-HiittSf-"
      },
      "execution_count": null,
      "outputs": []
    }
  ]
}